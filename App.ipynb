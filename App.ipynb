{
 "cells": [
  {
   "cell_type": "code",
   "execution_count": 11,
   "metadata": {},
   "outputs": [
    {
     "name": "stdout",
     "output_type": "stream",
     "text": [
      "<class 'pandas.core.frame.DataFrame'>\n",
      "RangeIndex: 100000 entries, 0 to 99999\n",
      "Data columns (total 70 columns):\n",
      " #   Column            Non-Null Count   Dtype  \n",
      "---  ------            --------------   -----  \n",
      " 0   drop_vce_Mean     100000 non-null  float64\n",
      " 1   drop_dat_Mean     100000 non-null  float64\n",
      " 2   blck_vce_Mean     100000 non-null  float64\n",
      " 3   blck_dat_Mean     100000 non-null  float64\n",
      " 4   unan_vce_Mean     100000 non-null  float64\n",
      " 5   unan_dat_Mean     100000 non-null  float64\n",
      " 6   plcd_vce_Mean     100000 non-null  float64\n",
      " 7   plcd_dat_Mean     100000 non-null  float64\n",
      " 8   recv_vce_Mean     100000 non-null  float64\n",
      " 9   recv_sms_Mean     100000 non-null  float64\n",
      " 10  comp_vce_Mean     100000 non-null  float64\n",
      " 11  comp_dat_Mean     100000 non-null  float64\n",
      " 12  custcare_Mean     100000 non-null  float64\n",
      " 13  ccrndmou_Mean     100000 non-null  float64\n",
      " 14  cc_mou_Mean       100000 non-null  float64\n",
      " 15  inonemin_Mean     100000 non-null  float64\n",
      " 16  threeway_Mean     100000 non-null  float64\n",
      " 17  mou_cvce_Mean     100000 non-null  float64\n",
      " 18  mou_cdat_Mean     100000 non-null  float64\n",
      " 19  mou_rvce_Mean     100000 non-null  float64\n",
      " 20  owylis_vce_Mean   100000 non-null  float64\n",
      " 21  mouowylisv_Mean   100000 non-null  float64\n",
      " 22  iwylis_vce_Mean   100000 non-null  float64\n",
      " 23  mouiwylisv_Mean   100000 non-null  float64\n",
      " 24  peak_vce_Mean     100000 non-null  float64\n",
      " 25  peak_dat_Mean     100000 non-null  float64\n",
      " 26  mou_peav_Mean     100000 non-null  float64\n",
      " 27  mou_pead_Mean     100000 non-null  float64\n",
      " 28  opk_vce_Mean      100000 non-null  float64\n",
      " 29  opk_dat_Mean      100000 non-null  float64\n",
      " 30  mou_opkv_Mean     100000 non-null  float64\n",
      " 31  mou_opkd_Mean     100000 non-null  float64\n",
      " 32  drop_blk_Mean     100000 non-null  float64\n",
      " 33  attempt_Mean      100000 non-null  float64\n",
      " 34  complete_Mean     100000 non-null  float64\n",
      " 35  callfwdv_Mean     100000 non-null  float64\n",
      " 36  callwait_Mean     100000 non-null  float64\n",
      " 37  churn             100000 non-null  int64  \n",
      " 38  months            100000 non-null  int64  \n",
      " 39  uniqsubs          100000 non-null  int64  \n",
      " 40  actvsubs          100000 non-null  int64  \n",
      " 41  new_cell          100000 non-null  object \n",
      " 42  crclscod          100000 non-null  object \n",
      " 43  asl_flag          100000 non-null  object \n",
      " 44  totcalls          100000 non-null  int64  \n",
      " 45  totmou            100000 non-null  float64\n",
      " 46  totrev            100000 non-null  float64\n",
      " 47  adjrev            100000 non-null  float64\n",
      " 48  adjmou            100000 non-null  float64\n",
      " 49  adjqty            100000 non-null  int64  \n",
      " 50  avgrev            100000 non-null  float64\n",
      " 51  avgmou            100000 non-null  float64\n",
      " 52  avgqty            100000 non-null  float64\n",
      " 53  avg3mou           100000 non-null  int64  \n",
      " 54  avg3qty           100000 non-null  int64  \n",
      " 55  avg3rev           100000 non-null  int64  \n",
      " 56  prizm_social_one  100000 non-null  object \n",
      " 57  area              100000 non-null  object \n",
      " 58  dualband          100000 non-null  object \n",
      " 59  refurb_new        100000 non-null  object \n",
      " 60  hnd_price         100000 non-null  float64\n",
      " 61  hnd_webcap        100000 non-null  object \n",
      " 62  dwlltype          100000 non-null  object \n",
      " 63  marital           100000 non-null  object \n",
      " 64  infobase          100000 non-null  object \n",
      " 65  ethnic            100000 non-null  object \n",
      " 66  kid0_2            100000 non-null  object \n",
      " 67  creditcd          100000 non-null  object \n",
      " 68  eqpdays           100000 non-null  float64\n",
      " 69  Customer_ID       100000 non-null  int64  \n",
      "dtypes: float64(46), int64(10), object(14)\n",
      "memory usage: 53.4+ MB\n",
      "None\n"
     ]
    }
   ],
   "source": [
    "import dash\n",
    "from dash import dcc\n",
    "from dash import html\n",
    "import dash_bootstrap_components as dbc\n",
    "from dash.dependencies import Input, Output\n",
    "import pandas as pd\n",
    "import plotly.express as px\n",
    "\n",
    "\n",
    "data = pd.read_csv('data/data_clean.csv', delimiter=',', decimal='.')\n",
    "\n",
    "print(data.info())"
   ]
  },
  {
   "cell_type": "code",
   "execution_count": 10,
   "metadata": {},
   "outputs": [
    {
     "data": {
      "text/plain": [
       "np.int64(53)"
      ]
     },
     "execution_count": 10,
     "metadata": {},
     "output_type": "execute_result"
    }
   ],
   "source": [
    "data['actvsubs'].max()"
   ]
  },
  {
   "cell_type": "code",
   "execution_count": 12,
   "metadata": {},
   "outputs": [],
   "source": [
    "descriptions = pd.read_csv('data/data_descriptions.csv', delimiter=';')"
   ]
  },
  {
   "cell_type": "code",
   "execution_count": 13,
   "metadata": {},
   "outputs": [
    {
     "ename": "AttributeError",
     "evalue": "'DataFrame' object has no attribute 'column_name'",
     "output_type": "error",
     "traceback": [
      "\u001b[0;31m---------------------------------------------------------------------------\u001b[0m",
      "\u001b[0;31mAttributeError\u001b[0m                            Traceback (most recent call last)",
      "\u001b[0;32m/var/folders/9k/rh090_3x4cd6_25zhms68qqr0000gn/T/ipykernel_98881/2377979349.py\u001b[0m in \u001b[0;36m?\u001b[0;34m()\u001b[0m\n\u001b[0;32m----> 1\u001b[0;31m \u001b[0mdescriptions_dict\u001b[0m \u001b[0;34m=\u001b[0m \u001b[0mpd\u001b[0m\u001b[0;34m.\u001b[0m\u001b[0mSeries\u001b[0m\u001b[0;34m(\u001b[0m\u001b[0mdescriptions\u001b[0m\u001b[0;34m.\u001b[0m\u001b[0mvalues\u001b[0m\u001b[0;34m,\u001b[0m \u001b[0mindex\u001b[0m\u001b[0;34m=\u001b[0m\u001b[0mdescriptions\u001b[0m\u001b[0;34m.\u001b[0m\u001b[0mcolumn_name\u001b[0m\u001b[0;34m)\u001b[0m\u001b[0;34m.\u001b[0m\u001b[0mto_dict\u001b[0m\u001b[0;34m(\u001b[0m\u001b[0;34m)\u001b[0m\u001b[0;34m\u001b[0m\u001b[0;34m\u001b[0m\u001b[0m\n\u001b[0m",
      "\u001b[0;32m/Library/Frameworks/Python.framework/Versions/3.12/lib/python3.12/site-packages/pandas/core/generic.py\u001b[0m in \u001b[0;36m?\u001b[0;34m(self, name)\u001b[0m\n\u001b[1;32m   6295\u001b[0m             \u001b[0;32mand\u001b[0m \u001b[0mname\u001b[0m \u001b[0;32mnot\u001b[0m \u001b[0;32min\u001b[0m \u001b[0mself\u001b[0m\u001b[0;34m.\u001b[0m\u001b[0m_accessors\u001b[0m\u001b[0;34m\u001b[0m\u001b[0;34m\u001b[0m\u001b[0m\n\u001b[1;32m   6296\u001b[0m             \u001b[0;32mand\u001b[0m \u001b[0mself\u001b[0m\u001b[0;34m.\u001b[0m\u001b[0m_info_axis\u001b[0m\u001b[0;34m.\u001b[0m\u001b[0m_can_hold_identifiers_and_holds_name\u001b[0m\u001b[0;34m(\u001b[0m\u001b[0mname\u001b[0m\u001b[0;34m)\u001b[0m\u001b[0;34m\u001b[0m\u001b[0;34m\u001b[0m\u001b[0m\n\u001b[1;32m   6297\u001b[0m         \u001b[0;34m)\u001b[0m\u001b[0;34m:\u001b[0m\u001b[0;34m\u001b[0m\u001b[0;34m\u001b[0m\u001b[0m\n\u001b[1;32m   6298\u001b[0m             \u001b[0;32mreturn\u001b[0m \u001b[0mself\u001b[0m\u001b[0;34m[\u001b[0m\u001b[0mname\u001b[0m\u001b[0;34m]\u001b[0m\u001b[0;34m\u001b[0m\u001b[0;34m\u001b[0m\u001b[0m\n\u001b[0;32m-> 6299\u001b[0;31m         \u001b[0;32mreturn\u001b[0m \u001b[0mobject\u001b[0m\u001b[0;34m.\u001b[0m\u001b[0m__getattribute__\u001b[0m\u001b[0;34m(\u001b[0m\u001b[0mself\u001b[0m\u001b[0;34m,\u001b[0m \u001b[0mname\u001b[0m\u001b[0;34m)\u001b[0m\u001b[0;34m\u001b[0m\u001b[0;34m\u001b[0m\u001b[0m\n\u001b[0m",
      "\u001b[0;31mAttributeError\u001b[0m: 'DataFrame' object has no attribute 'column_name'"
     ]
    }
   ],
   "source": [
    "descriptions_dict = pd.Series(descriptions['Variable'], index=descriptions['Significado']).to_dict()"
   ]
  },
  {
   "cell_type": "code",
   "execution_count": 14,
   "metadata": {},
   "outputs": [
    {
     "data": {
      "text/html": [
       "<div>\n",
       "<style scoped>\n",
       "    .dataframe tbody tr th:only-of-type {\n",
       "        vertical-align: middle;\n",
       "    }\n",
       "\n",
       "    .dataframe tbody tr th {\n",
       "        vertical-align: top;\n",
       "    }\n",
       "\n",
       "    .dataframe thead th {\n",
       "        text-align: right;\n",
       "    }\n",
       "</style>\n",
       "<table border=\"1\" class=\"dataframe\">\n",
       "  <thead>\n",
       "    <tr style=\"text-align: right;\">\n",
       "      <th></th>\n",
       "      <th>Variable</th>\n",
       "      <th>Significado</th>\n",
       "    </tr>\n",
       "  </thead>\n",
       "  <tbody>\n",
       "    <tr>\n",
       "      <th>0</th>\n",
       "      <td>Rev_Mean</td>\n",
       "      <td>Mean monthly revenue (charge amount)</td>\n",
       "    </tr>\n",
       "    <tr>\n",
       "      <th>1</th>\n",
       "      <td>mou_Mean</td>\n",
       "      <td>Mean number of monthly minutes of use</td>\n",
       "    </tr>\n",
       "    <tr>\n",
       "      <th>2</th>\n",
       "      <td>totmrc_Mean</td>\n",
       "      <td>Mean total monthly recurring charge</td>\n",
       "    </tr>\n",
       "    <tr>\n",
       "      <th>3</th>\n",
       "      <td>da_Mean</td>\n",
       "      <td>Mean number of directory assisted calls</td>\n",
       "    </tr>\n",
       "    <tr>\n",
       "      <th>4</th>\n",
       "      <td>ovrmou_Mean</td>\n",
       "      <td>Mean overage minutes of use</td>\n",
       "    </tr>\n",
       "    <tr>\n",
       "      <th>...</th>\n",
       "      <td>...</td>\n",
       "      <td>...</td>\n",
       "    </tr>\n",
       "    <tr>\n",
       "      <th>95</th>\n",
       "      <td>text_formatkid11_15</td>\n",
       "      <td>Child 11 - 15 years of age in household</td>\n",
       "    </tr>\n",
       "    <tr>\n",
       "      <th>96</th>\n",
       "      <td>text_formatkid16_17</td>\n",
       "      <td>Child 16 - 17 years of age in household</td>\n",
       "    </tr>\n",
       "    <tr>\n",
       "      <th>97</th>\n",
       "      <td>checkcreditcd</td>\n",
       "      <td>Credit card indicator</td>\n",
       "    </tr>\n",
       "    <tr>\n",
       "      <th>98</th>\n",
       "      <td>eqpdays</td>\n",
       "      <td>Number of days (age) of current equipment</td>\n",
       "    </tr>\n",
       "    <tr>\n",
       "      <th>99</th>\n",
       "      <td>vpn_keyCustomer_ID</td>\n",
       "      <td>Customer ID</td>\n",
       "    </tr>\n",
       "  </tbody>\n",
       "</table>\n",
       "<p>100 rows × 2 columns</p>\n",
       "</div>"
      ],
      "text/plain": [
       "               Variable                                Significado\n",
       "0              Rev_Mean       Mean monthly revenue (charge amount)\n",
       "1              mou_Mean      Mean number of monthly minutes of use\n",
       "2           totmrc_Mean        Mean total monthly recurring charge\n",
       "3               da_Mean    Mean number of directory assisted calls\n",
       "4           ovrmou_Mean                Mean overage minutes of use\n",
       "..                  ...                                        ...\n",
       "95  text_formatkid11_15    Child 11 - 15 years of age in household\n",
       "96  text_formatkid16_17    Child 16 - 17 years of age in household\n",
       "97        checkcreditcd                      Credit card indicator\n",
       "98              eqpdays  Number of days (age) of current equipment\n",
       "99   vpn_keyCustomer_ID                                Customer ID\n",
       "\n",
       "[100 rows x 2 columns]"
      ]
     },
     "execution_count": 14,
     "metadata": {},
     "output_type": "execute_result"
    }
   ],
   "source": [
    "descriptions"
   ]
  },
  {
   "cell_type": "code",
   "execution_count": null,
   "metadata": {},
   "outputs": [],
   "source": []
  }
 ],
 "metadata": {
  "kernelspec": {
   "display_name": "Python 3",
   "language": "python",
   "name": "python3"
  },
  "language_info": {
   "codemirror_mode": {
    "name": "ipython",
    "version": 3
   },
   "file_extension": ".py",
   "mimetype": "text/x-python",
   "name": "python",
   "nbconvert_exporter": "python",
   "pygments_lexer": "ipython3",
   "version": "3.12.4"
  }
 },
 "nbformat": 4,
 "nbformat_minor": 2
}
