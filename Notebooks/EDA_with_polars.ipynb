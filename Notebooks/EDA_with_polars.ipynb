{
 "cells": [
  {
   "cell_type": "code",
   "execution_count": 2,
   "metadata": {},
   "outputs": [],
   "source": [
    "import polars as pl"
   ]
  },
  {
   "cell_type": "code",
   "execution_count": 3,
   "metadata": {},
   "outputs": [
    {
     "data": {
      "text/html": [
       "<div><style>\n",
       ".dataframe > thead > tr,\n",
       ".dataframe > tbody > tr {\n",
       "  text-align: right;\n",
       "  white-space: pre-wrap;\n",
       "}\n",
       "</style>\n",
       "<small>shape: (9, 101)</small><table border=\"1\" class=\"dataframe\"><thead><tr><th>statistic</th><th>rev_Mean</th><th>mou_Mean</th><th>totmrc_Mean</th><th>da_Mean</th><th>ovrmou_Mean</th><th>ovrrev_Mean</th><th>vceovr_Mean</th><th>datovr_Mean</th><th>roam_Mean</th><th>change_mou</th><th>change_rev</th><th>drop_vce_Mean</th><th>drop_dat_Mean</th><th>blck_vce_Mean</th><th>blck_dat_Mean</th><th>unan_vce_Mean</th><th>unan_dat_Mean</th><th>plcd_vce_Mean</th><th>plcd_dat_Mean</th><th>recv_vce_Mean</th><th>recv_sms_Mean</th><th>comp_vce_Mean</th><th>comp_dat_Mean</th><th>custcare_Mean</th><th>ccrndmou_Mean</th><th>cc_mou_Mean</th><th>inonemin_Mean</th><th>threeway_Mean</th><th>mou_cvce_Mean</th><th>mou_cdat_Mean</th><th>mou_rvce_Mean</th><th>owylis_vce_Mean</th><th>mouowylisv_Mean</th><th>iwylis_vce_Mean</th><th>mouiwylisv_Mean</th><th>peak_vce_Mean</th><th>&hellip;</th><th>avgqty</th><th>avg3mou</th><th>avg3qty</th><th>avg3rev</th><th>avg6mou</th><th>avg6qty</th><th>avg6rev</th><th>prizm_social_one</th><th>area</th><th>dualband</th><th>refurb_new</th><th>hnd_price</th><th>phones</th><th>models</th><th>hnd_webcap</th><th>truck</th><th>rv</th><th>ownrent</th><th>lor</th><th>dwlltype</th><th>marital</th><th>adults</th><th>infobase</th><th>income</th><th>numbcars</th><th>HHstatin</th><th>dwllsize</th><th>forgntvl</th><th>ethnic</th><th>kid0_2</th><th>kid3_5</th><th>kid6_10</th><th>kid11_15</th><th>kid16_17</th><th>creditcd</th><th>eqpdays</th><th>Customer_ID</th></tr><tr><td>str</td><td>f64</td><td>f64</td><td>f64</td><td>f64</td><td>f64</td><td>f64</td><td>f64</td><td>f64</td><td>f64</td><td>f64</td><td>f64</td><td>f64</td><td>f64</td><td>f64</td><td>f64</td><td>f64</td><td>f64</td><td>f64</td><td>f64</td><td>f64</td><td>f64</td><td>f64</td><td>f64</td><td>f64</td><td>f64</td><td>f64</td><td>f64</td><td>f64</td><td>f64</td><td>f64</td><td>f64</td><td>f64</td><td>f64</td><td>f64</td><td>f64</td><td>f64</td><td>&hellip;</td><td>f64</td><td>f64</td><td>f64</td><td>f64</td><td>f64</td><td>f64</td><td>f64</td><td>str</td><td>str</td><td>str</td><td>str</td><td>f64</td><td>f64</td><td>f64</td><td>str</td><td>f64</td><td>f64</td><td>str</td><td>f64</td><td>str</td><td>str</td><td>f64</td><td>str</td><td>f64</td><td>f64</td><td>str</td><td>str</td><td>f64</td><td>str</td><td>str</td><td>str</td><td>str</td><td>str</td><td>str</td><td>str</td><td>f64</td><td>f64</td></tr></thead><tbody><tr><td>&quot;count&quot;</td><td>99643.0</td><td>99643.0</td><td>99643.0</td><td>99643.0</td><td>99643.0</td><td>99643.0</td><td>99643.0</td><td>99643.0</td><td>99643.0</td><td>99109.0</td><td>99109.0</td><td>100000.0</td><td>100000.0</td><td>100000.0</td><td>100000.0</td><td>100000.0</td><td>100000.0</td><td>100000.0</td><td>100000.0</td><td>100000.0</td><td>99326.0</td><td>100000.0</td><td>100000.0</td><td>100000.0</td><td>100000.0</td><td>100000.0</td><td>100000.0</td><td>100000.0</td><td>100000.0</td><td>100000.0</td><td>100000.0</td><td>100000.0</td><td>100000.0</td><td>100000.0</td><td>100000.0</td><td>100000.0</td><td>&hellip;</td><td>100000.0</td><td>100000.0</td><td>100000.0</td><td>100000.0</td><td>97161.0</td><td>97161.0</td><td>97161.0</td><td>&quot;92612&quot;</td><td>&quot;99960&quot;</td><td>&quot;99999&quot;</td><td>&quot;99999&quot;</td><td>99153.0</td><td>99999.0</td><td>99999.0</td><td>&quot;99999&quot;</td><td>98268.0</td><td>98268.0</td><td>&quot;66294&quot;</td><td>69810.0</td><td>&quot;68091&quot;</td><td>&quot;98268&quot;</td><td>76981.0</td><td>&quot;77921&quot;</td><td>74564.0</td><td>50634.0</td><td>&quot;62077&quot;</td><td>&quot;61692&quot;</td><td>98268.0</td><td>&quot;98268&quot;</td><td>&quot;98268&quot;</td><td>&quot;98268&quot;</td><td>&quot;98268&quot;</td><td>&quot;98268&quot;</td><td>&quot;98268&quot;</td><td>&quot;98268&quot;</td><td>99999.0</td><td>100000.0</td></tr><tr><td>&quot;null_count&quot;</td><td>357.0</td><td>357.0</td><td>357.0</td><td>357.0</td><td>357.0</td><td>357.0</td><td>357.0</td><td>357.0</td><td>357.0</td><td>891.0</td><td>891.0</td><td>0.0</td><td>0.0</td><td>0.0</td><td>0.0</td><td>0.0</td><td>0.0</td><td>0.0</td><td>0.0</td><td>0.0</td><td>674.0</td><td>0.0</td><td>0.0</td><td>0.0</td><td>0.0</td><td>0.0</td><td>0.0</td><td>0.0</td><td>0.0</td><td>0.0</td><td>0.0</td><td>0.0</td><td>0.0</td><td>0.0</td><td>0.0</td><td>0.0</td><td>&hellip;</td><td>0.0</td><td>0.0</td><td>0.0</td><td>0.0</td><td>2839.0</td><td>2839.0</td><td>2839.0</td><td>&quot;7388&quot;</td><td>&quot;40&quot;</td><td>&quot;1&quot;</td><td>&quot;1&quot;</td><td>847.0</td><td>1.0</td><td>1.0</td><td>&quot;1&quot;</td><td>1732.0</td><td>1732.0</td><td>&quot;33706&quot;</td><td>30190.0</td><td>&quot;31909&quot;</td><td>&quot;1732&quot;</td><td>23019.0</td><td>&quot;22079&quot;</td><td>25436.0</td><td>49366.0</td><td>&quot;37923&quot;</td><td>&quot;38308&quot;</td><td>1732.0</td><td>&quot;1732&quot;</td><td>&quot;1732&quot;</td><td>&quot;1732&quot;</td><td>&quot;1732&quot;</td><td>&quot;1732&quot;</td><td>&quot;1732&quot;</td><td>&quot;1732&quot;</td><td>1.0</td><td>0.0</td></tr><tr><td>&quot;mean&quot;</td><td>58.719985</td><td>513.559937</td><td>46.179136</td><td>0.888828</td><td>41.072247</td><td>13.55956</td><td>13.295062</td><td>0.261318</td><td>1.286405</td><td>-13.933818</td><td>-1.021067</td><td>5.955085</td><td>0.04052</td><td>4.022917</td><td>0.025777</td><td>27.784905</td><td>0.02981</td><td>144.881677</td><td>0.870548</td><td>55.085152</td><td>0.013582</td><td>108.892535</td><td>0.774442</td><td>1.790838</td><td>4.66688</td><td>3.683328</td><td>29.76655</td><td>0.28472</td><td>227.76352</td><td>1.844036</td><td>111.654562</td><td>24.75332</td><td>28.467865</td><td>7.89436</td><td>18.193037</td><td>88.480285</td><td>&hellip;</td><td>173.554507</td><td>519.64121</td><td>180.33732</td><td>59.19333</td><td>509.634576</td><td>178.365157</td><td>58.683618</td><td>null</td><td>null</td><td>null</td><td>null</td><td>101.875763</td><td>1.787118</td><td>1.545825</td><td>null</td><td>0.18882</td><td>0.08258</td><td>null</td><td>6.177238</td><td>null</td><td>null</td><td>2.530326</td><td>null</td><td>5.783112</td><td>1.567563</td><td>null</td><td>null</td><td>0.057974</td><td>null</td><td>null</td><td>null</td><td>null</td><td>null</td><td>null</td><td>null</td><td>391.932309</td><td>1050000.5</td></tr><tr><td>&quot;std&quot;</td><td>46.291677</td><td>525.16814</td><td>23.623489</td><td>2.177619</td><td>97.29615</td><td>30.500885</td><td>30.056089</td><td>3.126531</td><td>14.711374</td><td>276.087509</td><td>50.363209</td><td>8.954715</td><td>0.877136</td><td>10.672202</td><td>1.490255</td><td>38.358734</td><td>0.49697</td><td>158.267711</td><td>9.053901</td><td>86.841198</td><td>0.653367</td><td>118.580079</td><td>8.129844</td><td>5.31557</td><td>12.761953</td><td>10.539981</td><td>55.833753</td><td>1.092101</td><td>264.403894</td><td>23.733226</td><td>162.691285</td><td>34.414822</td><td>48.962903</td><td>16.14559</td><td>41.421462</td><td>103.066103</td><td>&hellip;</td><td>167.824576</td><td>533.634073</td><td>192.725835</td><td>46.695429</td><td>496.663453</td><td>182.724565</td><td>40.758577</td><td>null</td><td>null</td><td>null</td><td>null</td><td>61.005671</td><td>1.313977</td><td>0.898395</td><td>null</td><td>0.391368</td><td>0.275248</td><td>null</td><td>4.735267</td><td>null</td><td>null</td><td>1.452819</td><td>null</td><td>2.182132</td><td>0.625456</td><td>null</td><td>null</td><td>0.233696</td><td>null</td><td>null</td><td>null</td><td>null</td><td>null</td><td>null</td><td>null</td><td>256.482193</td><td>28867.657797</td></tr><tr><td>&quot;min&quot;</td><td>-6.1675</td><td>0.0</td><td>-26.915</td><td>0.0</td><td>0.0</td><td>0.0</td><td>0.0</td><td>0.0</td><td>0.0</td><td>-3875.0</td><td>-1107.74</td><td>0.0</td><td>0.0</td><td>0.0</td><td>0.0</td><td>0.0</td><td>0.0</td><td>0.0</td><td>0.0</td><td>0.0</td><td>0.0</td><td>0.0</td><td>0.0</td><td>0.0</td><td>0.0</td><td>0.0</td><td>0.0</td><td>0.0</td><td>0.0</td><td>0.0</td><td>0.0</td><td>0.0</td><td>0.0</td><td>0.0</td><td>0.0</td><td>0.0</td><td>&hellip;</td><td>0.0</td><td>0.0</td><td>0.0</td><td>1.0</td><td>0.0</td><td>0.0</td><td>-2.0</td><td>&quot;C&quot;</td><td>&quot;ATLANTIC SOUTH AREA&quot;</td><td>&quot;N&quot;</td><td>&quot;N&quot;</td><td>9.989998</td><td>1.0</td><td>1.0</td><td>&quot;NA&quot;</td><td>0.0</td><td>0.0</td><td>&quot;O&quot;</td><td>0.0</td><td>&quot;M&quot;</td><td>&quot;A&quot;</td><td>1.0</td><td>&quot;M&quot;</td><td>1.0</td><td>1.0</td><td>&quot;A&quot;</td><td>&quot;A&quot;</td><td>0.0</td><td>&quot;B&quot;</td><td>&quot;U&quot;</td><td>&quot;U&quot;</td><td>&quot;U&quot;</td><td>&quot;U&quot;</td><td>&quot;U&quot;</td><td>&quot;N&quot;</td><td>-5.0</td><td>1.000001e6</td></tr><tr><td>&quot;25%&quot;</td><td>33.26</td><td>150.75</td><td>30.0</td><td>0.0</td><td>0.0</td><td>0.0</td><td>0.0</td><td>0.0</td><td>0.0</td><td>-87.0</td><td>-7.365</td><td>0.666667</td><td>0.0</td><td>0.0</td><td>0.0</td><td>5.0</td><td>0.0</td><td>38.333333</td><td>0.0</td><td>5.333333</td><td>0.0</td><td>28.666667</td><td>0.0</td><td>0.0</td><td>0.0</td><td>0.0</td><td>2.666667</td><td>0.0</td><td>49.053333</td><td>0.0</td><td>7.65</td><td>3.0</td><td>2.376667</td><td>0.0</td><td>0.0</td><td>21.666667</td><td>&hellip;</td><td>64.09</td><td>152.0</td><td>55.0</td><td>33.0</td><td>163.0</td><td>59.0</td><td>34.0</td><td>null</td><td>null</td><td>null</td><td>null</td><td>29.98999</td><td>1.0</td><td>1.0</td><td>null</td><td>0.0</td><td>0.0</td><td>null</td><td>2.0</td><td>null</td><td>null</td><td>1.0</td><td>null</td><td>4.0</td><td>1.0</td><td>null</td><td>null</td><td>0.0</td><td>null</td><td>null</td><td>null</td><td>null</td><td>null</td><td>null</td><td>null</td><td>212.0</td><td>1.025001e6</td></tr><tr><td>&quot;50%&quot;</td><td>48.195</td><td>355.5</td><td>44.99</td><td>0.2475</td><td>2.75</td><td>1.0</td><td>0.6825</td><td>0.0</td><td>0.0</td><td>-6.25</td><td>-0.315</td><td>3.0</td><td>0.0</td><td>1.0</td><td>0.0</td><td>16.0</td><td>0.0</td><td>100.333333</td><td>0.0</td><td>26.666667</td><td>0.0</td><td>75.666667</td><td>0.0</td><td>0.0</td><td>0.0</td><td>0.0</td><td>12.333333</td><td>0.0</td><td>146.203333</td><td>0.0</td><td>50.203333</td><td>13.0</td><td>11.976667</td><td>2.0</td><td>3.21</td><td>60.333333</td><td>&hellip;</td><td>127.5</td><td>358.0</td><td>125.0</td><td>48.0</td><td>363.0</td><td>127.0</td><td>50.0</td><td>null</td><td>null</td><td>null</td><td>null</td><td>99.98999</td><td>1.0</td><td>1.0</td><td>null</td><td>0.0</td><td>0.0</td><td>null</td><td>5.0</td><td>null</td><td>null</td><td>2.0</td><td>null</td><td>6.0</td><td>1.0</td><td>null</td><td>null</td><td>0.0</td><td>null</td><td>null</td><td>null</td><td>null</td><td>null</td><td>null</td><td>null</td><td>342.0</td><td>1.050001e6</td></tr><tr><td>&quot;75%&quot;</td><td>70.75</td><td>703.0</td><td>59.99</td><td>0.99</td><td>42.0</td><td>14.4375</td><td>14.025</td><td>0.0</td><td>0.235</td><td>63.0</td><td>1.6425</td><td>7.666667</td><td>0.0</td><td>3.666667</td><td>0.0</td><td>36.0</td><td>0.0</td><td>198.666667</td><td>0.0</td><td>71.333333</td><td>0.0</td><td>149.666667</td><td>0.0</td><td>1.666667</td><td>4.0</td><td>2.873333</td><td>35.666667</td><td>0.333333</td><td>309.476667</td><td>0.0</td><td>149.446667</td><td>33.0</td><td>34.173333</td><td>8.666667</td><td>18.25</td><td>118.666667</td><td>&hellip;</td><td>228.57</td><td>711.0</td><td>240.0</td><td>71.0</td><td>698.0</td><td>237.0</td><td>71.0</td><td>null</td><td>null</td><td>null</td><td>null</td><td>149.98999</td><td>2.0</td><td>2.0</td><td>null</td><td>0.0</td><td>0.0</td><td>null</td><td>9.0</td><td>null</td><td>null</td><td>3.0</td><td>null</td><td>7.0</td><td>2.0</td><td>null</td><td>null</td><td>0.0</td><td>null</td><td>null</td><td>null</td><td>null</td><td>null</td><td>null</td><td>null</td><td>530.0</td><td>1.075e6</td></tr><tr><td>&quot;max&quot;</td><td>3843.2625</td><td>12206.75</td><td>409.99</td><td>159.39</td><td>4320.75</td><td>1102.4</td><td>896.0875</td><td>423.54</td><td>3685.2</td><td>31219.25</td><td>9963.6575</td><td>232.666667</td><td>207.333333</td><td>385.333333</td><td>413.333333</td><td>848.666667</td><td>81.666667</td><td>2289.0</td><td>733.666667</td><td>3369.333333</td><td>112.0</td><td>1894.333333</td><td>559.333333</td><td>675.333333</td><td>861.333333</td><td>602.95</td><td>3086.666667</td><td>66.0</td><td>4514.453333</td><td>3032.05</td><td>3287.25</td><td>644.333333</td><td>1802.706667</td><td>519.333333</td><td>1703.536667</td><td>2090.666667</td><td>&hellip;</td><td>3017.11</td><td>7716.0</td><td>3909.0</td><td>1593.0</td><td>7217.0</td><td>3256.0</td><td>866.0</td><td>&quot;U&quot;</td><td>&quot;TENNESSEE AREA&quot;</td><td>&quot;Y&quot;</td><td>&quot;R&quot;</td><td>499.98999</td><td>28.0</td><td>16.0</td><td>&quot;WCMB&quot;</td><td>1.0</td><td>1.0</td><td>&quot;R&quot;</td><td>15.0</td><td>&quot;S&quot;</td><td>&quot;U&quot;</td><td>6.0</td><td>&quot;N&quot;</td><td>9.0</td><td>3.0</td><td>&quot;I&quot;</td><td>&quot;O&quot;</td><td>1.0</td><td>&quot;Z&quot;</td><td>&quot;Y&quot;</td><td>&quot;Y&quot;</td><td>&quot;Y&quot;</td><td>&quot;Y&quot;</td><td>&quot;Y&quot;</td><td>&quot;Y&quot;</td><td>1823.0</td><td>1.1e6</td></tr></tbody></table></div>"
      ],
      "text/plain": [
       "shape: (9, 101)\n",
       "┌────────────┬───────────┬───────────┬───────────┬───┬──────────┬──────────┬───────────┬───────────┐\n",
       "│ statistic  ┆ rev_Mean  ┆ mou_Mean  ┆ totmrc_Me ┆ … ┆ kid16_17 ┆ creditcd ┆ eqpdays   ┆ Customer_ │\n",
       "│ ---        ┆ ---       ┆ ---       ┆ an        ┆   ┆ ---      ┆ ---      ┆ ---       ┆ ID        │\n",
       "│ str        ┆ f64       ┆ f64       ┆ ---       ┆   ┆ str      ┆ str      ┆ f64       ┆ ---       │\n",
       "│            ┆           ┆           ┆ f64       ┆   ┆          ┆          ┆           ┆ f64       │\n",
       "╞════════════╪═══════════╪═══════════╪═══════════╪═══╪══════════╪══════════╪═══════════╪═══════════╡\n",
       "│ count      ┆ 99643.0   ┆ 99643.0   ┆ 99643.0   ┆ … ┆ 98268    ┆ 98268    ┆ 99999.0   ┆ 100000.0  │\n",
       "│ null_count ┆ 357.0     ┆ 357.0     ┆ 357.0     ┆ … ┆ 1732     ┆ 1732     ┆ 1.0       ┆ 0.0       │\n",
       "│ mean       ┆ 58.719985 ┆ 513.55993 ┆ 46.179136 ┆ … ┆ null     ┆ null     ┆ 391.93230 ┆ 1050000.5 │\n",
       "│            ┆           ┆ 7         ┆           ┆   ┆          ┆          ┆ 9         ┆           │\n",
       "│ std        ┆ 46.291677 ┆ 525.16814 ┆ 23.623489 ┆ … ┆ null     ┆ null     ┆ 256.48219 ┆ 28867.657 │\n",
       "│            ┆           ┆           ┆           ┆   ┆          ┆          ┆ 3         ┆ 797       │\n",
       "│ min        ┆ -6.1675   ┆ 0.0       ┆ -26.915   ┆ … ┆ U        ┆ N        ┆ -5.0      ┆ 1.000001e │\n",
       "│            ┆           ┆           ┆           ┆   ┆          ┆          ┆           ┆ 6         │\n",
       "│ 25%        ┆ 33.26     ┆ 150.75    ┆ 30.0      ┆ … ┆ null     ┆ null     ┆ 212.0     ┆ 1.025001e │\n",
       "│            ┆           ┆           ┆           ┆   ┆          ┆          ┆           ┆ 6         │\n",
       "│ 50%        ┆ 48.195    ┆ 355.5     ┆ 44.99     ┆ … ┆ null     ┆ null     ┆ 342.0     ┆ 1.050001e │\n",
       "│            ┆           ┆           ┆           ┆   ┆          ┆          ┆           ┆ 6         │\n",
       "│ 75%        ┆ 70.75     ┆ 703.0     ┆ 59.99     ┆ … ┆ null     ┆ null     ┆ 530.0     ┆ 1.075e6   │\n",
       "│ max        ┆ 3843.2625 ┆ 12206.75  ┆ 409.99    ┆ … ┆ Y        ┆ Y        ┆ 1823.0    ┆ 1.1e6     │\n",
       "└────────────┴───────────┴───────────┴───────────┴───┴──────────┴──────────┴───────────┴───────────┘"
      ]
     },
     "execution_count": 3,
     "metadata": {},
     "output_type": "execute_result"
    }
   ],
   "source": [
    "data = pl.read_csv('../data/dataset.csv', separator=';', decimal_comma= True, encoding='utf8', ignore_errors=True)\n",
    "data.describe()"
   ]
  },
  {
   "cell_type": "code",
   "execution_count": 13,
   "metadata": {},
   "outputs": [
    {
     "data": {
      "text/html": [
       "<div><style>\n",
       ".dataframe > thead > tr,\n",
       ".dataframe > tbody > tr {\n",
       "  text-align: right;\n",
       "  white-space: pre-wrap;\n",
       "}\n",
       "</style>\n",
       "<small>shape: (5, 100)</small><table border=\"1\" class=\"dataframe\"><thead><tr><th>rev_Mean</th><th>mou_Mean</th><th>totmrc_Mean</th><th>da_Mean</th><th>ovrmou_Mean</th><th>ovrrev_Mean</th><th>vceovr_Mean</th><th>datovr_Mean</th><th>roam_Mean</th><th>change_mou</th><th>change_rev</th><th>drop_vce_Mean</th><th>drop_dat_Mean</th><th>blck_vce_Mean</th><th>blck_dat_Mean</th><th>unan_vce_Mean</th><th>unan_dat_Mean</th><th>plcd_vce_Mean</th><th>plcd_dat_Mean</th><th>recv_vce_Mean</th><th>recv_sms_Mean</th><th>comp_vce_Mean</th><th>comp_dat_Mean</th><th>custcare_Mean</th><th>ccrndmou_Mean</th><th>cc_mou_Mean</th><th>inonemin_Mean</th><th>threeway_Mean</th><th>mou_cvce_Mean</th><th>mou_cdat_Mean</th><th>mou_rvce_Mean</th><th>owylis_vce_Mean</th><th>mouowylisv_Mean</th><th>iwylis_vce_Mean</th><th>mouiwylisv_Mean</th><th>peak_vce_Mean</th><th>peak_dat_Mean</th><th>&hellip;</th><th>avgqty</th><th>avg3mou</th><th>avg3qty</th><th>avg3rev</th><th>avg6mou</th><th>avg6qty</th><th>avg6rev</th><th>prizm_social_one</th><th>area</th><th>dualband</th><th>refurb_new</th><th>hnd_price</th><th>phones</th><th>models</th><th>hnd_webcap</th><th>truck</th><th>rv</th><th>ownrent</th><th>lor</th><th>dwlltype</th><th>marital</th><th>adults</th><th>infobase</th><th>income</th><th>numbcars</th><th>HHstatin</th><th>dwllsize</th><th>forgntvl</th><th>ethnic</th><th>kid0_2</th><th>kid3_5</th><th>kid6_10</th><th>kid11_15</th><th>kid16_17</th><th>creditcd</th><th>eqpdays</th><th>Customer_ID</th></tr><tr><td>f64</td><td>f64</td><td>f64</td><td>f64</td><td>f64</td><td>f64</td><td>f64</td><td>f64</td><td>f64</td><td>f64</td><td>f64</td><td>f64</td><td>f64</td><td>f64</td><td>f64</td><td>f64</td><td>f64</td><td>f64</td><td>f64</td><td>f64</td><td>i64</td><td>f64</td><td>f64</td><td>f64</td><td>f64</td><td>f64</td><td>f64</td><td>f64</td><td>f64</td><td>f64</td><td>f64</td><td>f64</td><td>f64</td><td>f64</td><td>f64</td><td>f64</td><td>f64</td><td>&hellip;</td><td>f64</td><td>i64</td><td>i64</td><td>i64</td><td>i64</td><td>i64</td><td>i64</td><td>str</td><td>str</td><td>str</td><td>str</td><td>f64</td><td>i64</td><td>i64</td><td>str</td><td>i64</td><td>i64</td><td>str</td><td>i64</td><td>str</td><td>str</td><td>i64</td><td>str</td><td>i64</td><td>i64</td><td>str</td><td>str</td><td>i64</td><td>str</td><td>str</td><td>str</td><td>str</td><td>str</td><td>str</td><td>str</td><td>i64</td><td>i64</td></tr></thead><tbody><tr><td>23.9975</td><td>219.25</td><td>22.5</td><td>0.2475</td><td>0.0</td><td>0.0</td><td>0.0</td><td>0.0</td><td>0.0</td><td>-157.25</td><td>-18.9975</td><td>0.666667</td><td>0.0</td><td>0.666667</td><td>0.0</td><td>6.333333</td><td>0.0</td><td>52.333333</td><td>0.0</td><td>42.333333</td><td>0</td><td>45.0</td><td>0.0</td><td>0.0</td><td>0.0</td><td>0.0</td><td>18.0</td><td>0.0</td><td>90.643333</td><td>0.0</td><td>97.176667</td><td>0.0</td><td>0.0</td><td>0.0</td><td>0.0</td><td>58.0</td><td>0.0</td><td>&hellip;</td><td>32.69</td><td>272</td><td>116</td><td>30</td><td>322</td><td>136</td><td>38</td><td>&quot;S&quot;</td><td>&quot;NORTHWEST/ROCKY MOUNTAIN AREA&quot;</td><td>&quot;Y&quot;</td><td>&quot;N&quot;</td><td>149.98999</td><td>2</td><td>2</td><td>&quot;WCMB&quot;</td><td>0</td><td>0</td><td>&quot;O&quot;</td><td>15</td><td>&quot;S&quot;</td><td>&quot;S&quot;</td><td>1</td><td>&quot;M&quot;</td><td>4</td><td>3</td><td>&quot;C&quot;</td><td>&quot;A&quot;</td><td>0</td><td>&quot;N&quot;</td><td>&quot;U&quot;</td><td>&quot;U&quot;</td><td>&quot;U&quot;</td><td>&quot;U&quot;</td><td>&quot;U&quot;</td><td>&quot;Y&quot;</td><td>361</td><td>1000001</td></tr><tr><td>57.4925</td><td>482.75</td><td>37.425</td><td>0.2475</td><td>22.75</td><td>9.1</td><td>9.1</td><td>0.0</td><td>0.0</td><td>532.25</td><td>50.9875</td><td>8.333333</td><td>0.0</td><td>1.0</td><td>0.0</td><td>61.333333</td><td>0.0</td><td>263.333333</td><td>0.0</td><td>69.0</td><td>0</td><td>193.333333</td><td>0.0</td><td>1.666667</td><td>6.333333</td><td>5.463333</td><td>53.0</td><td>0.333333</td><td>189.396667</td><td>0.0</td><td>55.28</td><td>46.333333</td><td>24.216667</td><td>6.333333</td><td>3.696667</td><td>83.666667</td><td>0.0</td><td>&hellip;</td><td>265.89</td><td>305</td><td>158</td><td>40</td><td>477</td><td>275</td><td>48</td><td>&quot;U&quot;</td><td>&quot;CHICAGO AREA&quot;</td><td>&quot;N&quot;</td><td>&quot;N&quot;</td><td>null</td><td>7</td><td>6</td><td>&quot;WC&quot;</td><td>1</td><td>1</td><td>null</td><td>1</td><td>&quot;S&quot;</td><td>&quot;S&quot;</td><td>1</td><td>&quot;M&quot;</td><td>5</td><td>1</td><td>&quot;C&quot;</td><td>&quot;A&quot;</td><td>0</td><td>&quot;Z&quot;</td><td>&quot;U&quot;</td><td>&quot;U&quot;</td><td>&quot;U&quot;</td><td>&quot;U&quot;</td><td>&quot;U&quot;</td><td>&quot;Y&quot;</td><td>240</td><td>1000002</td></tr><tr><td>16.99</td><td>10.25</td><td>16.99</td><td>0.0</td><td>0.0</td><td>0.0</td><td>0.0</td><td>0.0</td><td>0.0</td><td>-4.25</td><td>0.0</td><td>0.333333</td><td>0.0</td><td>0.0</td><td>0.0</td><td>2.666667</td><td>0.0</td><td>9.0</td><td>0.0</td><td>0.333333</td><td>0</td><td>6.0</td><td>0.0</td><td>0.0</td><td>0.0</td><td>0.0</td><td>0.333333</td><td>0.0</td><td>5.426667</td><td>0.0</td><td>0.0</td><td>0.0</td><td>0.0</td><td>0.0</td><td>0.0</td><td>5.0</td><td>0.0</td><td>&hellip;</td><td>140.86</td><td>12</td><td>7</td><td>17</td><td>11</td><td>6</td><td>17</td><td>&quot;S&quot;</td><td>&quot;GREAT LAKES AREA&quot;</td><td>&quot;N&quot;</td><td>&quot;N&quot;</td><td>29.98999</td><td>2</td><td>1</td><td>&quot;NA&quot;</td><td>0</td><td>0</td><td>&quot;O&quot;</td><td>7</td><td>&quot;S&quot;</td><td>&quot;M&quot;</td><td>2</td><td>&quot;M&quot;</td><td>5</td><td>2</td><td>&quot;C&quot;</td><td>&quot;A&quot;</td><td>0</td><td>&quot;N&quot;</td><td>&quot;U&quot;</td><td>&quot;Y&quot;</td><td>&quot;U&quot;</td><td>&quot;U&quot;</td><td>&quot;U&quot;</td><td>&quot;Y&quot;</td><td>1504</td><td>1000003</td></tr><tr><td>38.0</td><td>7.5</td><td>38.0</td><td>0.0</td><td>0.0</td><td>0.0</td><td>0.0</td><td>0.0</td><td>0.0</td><td>-1.5</td><td>0.0</td><td>0.0</td><td>0.0</td><td>0.0</td><td>0.0</td><td>0.0</td><td>0.0</td><td>3.666667</td><td>0.0</td><td>1.333333</td><td>0</td><td>3.666667</td><td>0.0</td><td>0.0</td><td>0.0</td><td>0.0</td><td>1.333333</td><td>0.0</td><td>8.41</td><td>0.0</td><td>0.413333</td><td>0.333333</td><td>0.256667</td><td>0.0</td><td>0.0</td><td>1.333333</td><td>0.0</td><td>&hellip;</td><td>30.81</td><td>8</td><td>3</td><td>38</td><td>50</td><td>25</td><td>40</td><td>&quot;T&quot;</td><td>&quot;CHICAGO AREA&quot;</td><td>&quot;N&quot;</td><td>&quot;N&quot;</td><td>29.98999</td><td>1</td><td>1</td><td>&quot;NA&quot;</td><td>0</td><td>0</td><td>null</td><td>6</td><td>&quot;M&quot;</td><td>&quot;M&quot;</td><td>4</td><td>&quot;M&quot;</td><td>6</td><td>1</td><td>&quot;C&quot;</td><td>&quot;D&quot;</td><td>0</td><td>&quot;U&quot;</td><td>&quot;Y&quot;</td><td>&quot;U&quot;</td><td>&quot;U&quot;</td><td>&quot;U&quot;</td><td>&quot;U&quot;</td><td>&quot;Y&quot;</td><td>1812</td><td>1000004</td></tr><tr><td>55.23</td><td>570.5</td><td>71.98</td><td>0.0</td><td>0.0</td><td>0.0</td><td>0.0</td><td>0.0</td><td>0.0</td><td>38.5</td><td>0.0</td><td>9.666667</td><td>0.0</td><td>0.666667</td><td>0.0</td><td>77.0</td><td>0.0</td><td>222.333333</td><td>0.0</td><td>94.666667</td><td>0</td><td>137.0</td><td>0.0</td><td>8.666667</td><td>15.0</td><td>11.076667</td><td>66.0</td><td>0.0</td><td>285.233333</td><td>0.0</td><td>106.33</td><td>14.666667</td><td>10.816667</td><td>0.666667</td><td>0.366667</td><td>97.333333</td><td>0.0</td><td>&hellip;</td><td>79.5</td><td>558</td><td>191</td><td>55</td><td>586</td><td>196</td><td>80</td><td>&quot;U&quot;</td><td>&quot;NEW ENGLAND AREA&quot;</td><td>&quot;Y&quot;</td><td>&quot;N&quot;</td><td>149.98999</td><td>6</td><td>4</td><td>&quot;WCMB&quot;</td><td>0</td><td>0</td><td>&quot;R&quot;</td><td>5</td><td>&quot;M&quot;</td><td>&quot;S&quot;</td><td>1</td><td>&quot;M&quot;</td><td>6</td><td>1</td><td>&quot;C&quot;</td><td>&quot;O&quot;</td><td>0</td><td>&quot;I&quot;</td><td>&quot;U&quot;</td><td>&quot;U&quot;</td><td>&quot;U&quot;</td><td>&quot;U&quot;</td><td>&quot;U&quot;</td><td>&quot;Y&quot;</td><td>434</td><td>1000005</td></tr></tbody></table></div>"
      ],
      "text/plain": [
       "shape: (5, 100)\n",
       "┌──────────┬──────────┬─────────────┬─────────┬───┬──────────┬──────────┬─────────┬─────────────┐\n",
       "│ rev_Mean ┆ mou_Mean ┆ totmrc_Mean ┆ da_Mean ┆ … ┆ kid16_17 ┆ creditcd ┆ eqpdays ┆ Customer_ID │\n",
       "│ ---      ┆ ---      ┆ ---         ┆ ---     ┆   ┆ ---      ┆ ---      ┆ ---     ┆ ---         │\n",
       "│ f64      ┆ f64      ┆ f64         ┆ f64     ┆   ┆ str      ┆ str      ┆ i64     ┆ i64         │\n",
       "╞══════════╪══════════╪═════════════╪═════════╪═══╪══════════╪══════════╪═════════╪═════════════╡\n",
       "│ 23.9975  ┆ 219.25   ┆ 22.5        ┆ 0.2475  ┆ … ┆ U        ┆ Y        ┆ 361     ┆ 1000001     │\n",
       "│ 57.4925  ┆ 482.75   ┆ 37.425      ┆ 0.2475  ┆ … ┆ U        ┆ Y        ┆ 240     ┆ 1000002     │\n",
       "│ 16.99    ┆ 10.25    ┆ 16.99       ┆ 0.0     ┆ … ┆ U        ┆ Y        ┆ 1504    ┆ 1000003     │\n",
       "│ 38.0     ┆ 7.5      ┆ 38.0        ┆ 0.0     ┆ … ┆ U        ┆ Y        ┆ 1812    ┆ 1000004     │\n",
       "│ 55.23    ┆ 570.5    ┆ 71.98       ┆ 0.0     ┆ … ┆ U        ┆ Y        ┆ 434     ┆ 1000005     │\n",
       "└──────────┴──────────┴─────────────┴─────────┴───┴──────────┴──────────┴─────────┴─────────────┘"
      ]
     },
     "execution_count": 13,
     "metadata": {},
     "output_type": "execute_result"
    }
   ],
   "source": [
    "data.head()"
   ]
  },
  {
   "cell_type": "code",
   "execution_count": 9,
   "metadata": {},
   "outputs": [
    {
     "data": {
      "text/html": [
       "<div><style>\n",
       ".dataframe > thead > tr,\n",
       ".dataframe > tbody > tr {\n",
       "  text-align: right;\n",
       "  white-space: pre-wrap;\n",
       "}\n",
       "</style>\n",
       "<small>shape: (1, 100)</small><table border=\"1\" class=\"dataframe\"><thead><tr><th>rev_Mean</th><th>mou_Mean</th><th>totmrc_Mean</th><th>da_Mean</th><th>ovrmou_Mean</th><th>ovrrev_Mean</th><th>vceovr_Mean</th><th>datovr_Mean</th><th>roam_Mean</th><th>change_mou</th><th>change_rev</th><th>drop_vce_Mean</th><th>drop_dat_Mean</th><th>blck_vce_Mean</th><th>blck_dat_Mean</th><th>unan_vce_Mean</th><th>unan_dat_Mean</th><th>plcd_vce_Mean</th><th>plcd_dat_Mean</th><th>recv_vce_Mean</th><th>recv_sms_Mean</th><th>comp_vce_Mean</th><th>comp_dat_Mean</th><th>custcare_Mean</th><th>ccrndmou_Mean</th><th>cc_mou_Mean</th><th>inonemin_Mean</th><th>threeway_Mean</th><th>mou_cvce_Mean</th><th>mou_cdat_Mean</th><th>mou_rvce_Mean</th><th>owylis_vce_Mean</th><th>mouowylisv_Mean</th><th>iwylis_vce_Mean</th><th>mouiwylisv_Mean</th><th>peak_vce_Mean</th><th>peak_dat_Mean</th><th>&hellip;</th><th>avgqty</th><th>avg3mou</th><th>avg3qty</th><th>avg3rev</th><th>avg6mou</th><th>avg6qty</th><th>avg6rev</th><th>prizm_social_one</th><th>area</th><th>dualband</th><th>refurb_new</th><th>hnd_price</th><th>phones</th><th>models</th><th>hnd_webcap</th><th>truck</th><th>rv</th><th>ownrent</th><th>lor</th><th>dwlltype</th><th>marital</th><th>adults</th><th>infobase</th><th>income</th><th>numbcars</th><th>HHstatin</th><th>dwllsize</th><th>forgntvl</th><th>ethnic</th><th>kid0_2</th><th>kid3_5</th><th>kid6_10</th><th>kid11_15</th><th>kid16_17</th><th>creditcd</th><th>eqpdays</th><th>Customer_ID</th></tr><tr><td>f64</td><td>f64</td><td>f64</td><td>f64</td><td>f64</td><td>f64</td><td>f64</td><td>f64</td><td>f64</td><td>f64</td><td>f64</td><td>f64</td><td>f64</td><td>f64</td><td>f64</td><td>f64</td><td>f64</td><td>f64</td><td>f64</td><td>f64</td><td>f64</td><td>f64</td><td>f64</td><td>f64</td><td>f64</td><td>f64</td><td>f64</td><td>f64</td><td>f64</td><td>f64</td><td>f64</td><td>f64</td><td>f64</td><td>f64</td><td>f64</td><td>f64</td><td>f64</td><td>&hellip;</td><td>f64</td><td>f64</td><td>f64</td><td>f64</td><td>f64</td><td>f64</td><td>f64</td><td>f64</td><td>f64</td><td>f64</td><td>f64</td><td>f64</td><td>f64</td><td>f64</td><td>f64</td><td>f64</td><td>f64</td><td>f64</td><td>f64</td><td>f64</td><td>f64</td><td>f64</td><td>f64</td><td>f64</td><td>f64</td><td>f64</td><td>f64</td><td>f64</td><td>f64</td><td>f64</td><td>f64</td><td>f64</td><td>f64</td><td>f64</td><td>f64</td><td>f64</td><td>f64</td></tr></thead><tbody><tr><td>0.357</td><td>0.357</td><td>0.357</td><td>0.357</td><td>0.357</td><td>0.357</td><td>0.357</td><td>0.357</td><td>0.357</td><td>0.891</td><td>0.891</td><td>0.0</td><td>0.0</td><td>0.0</td><td>0.0</td><td>0.0</td><td>0.0</td><td>0.0</td><td>0.0</td><td>0.0</td><td>0.674</td><td>0.0</td><td>0.0</td><td>0.0</td><td>0.0</td><td>0.0</td><td>0.0</td><td>0.0</td><td>0.0</td><td>0.0</td><td>0.0</td><td>0.0</td><td>0.0</td><td>0.0</td><td>0.0</td><td>0.0</td><td>0.0</td><td>&hellip;</td><td>0.0</td><td>0.0</td><td>0.0</td><td>0.0</td><td>2.839</td><td>2.839</td><td>2.839</td><td>7.388</td><td>0.04</td><td>0.001</td><td>0.001</td><td>0.847</td><td>0.001</td><td>0.001</td><td>0.001</td><td>1.732</td><td>1.732</td><td>33.706</td><td>30.19</td><td>31.909</td><td>1.732</td><td>23.019</td><td>22.079</td><td>25.436</td><td>49.366</td><td>37.923</td><td>38.308</td><td>1.732</td><td>1.732</td><td>1.732</td><td>1.732</td><td>1.732</td><td>1.732</td><td>1.732</td><td>1.732</td><td>0.001</td><td>0.0</td></tr></tbody></table></div>"
      ],
      "text/plain": [
       "shape: (1, 100)\n",
       "┌──────────┬──────────┬─────────────┬─────────┬───┬──────────┬──────────┬─────────┬─────────────┐\n",
       "│ rev_Mean ┆ mou_Mean ┆ totmrc_Mean ┆ da_Mean ┆ … ┆ kid16_17 ┆ creditcd ┆ eqpdays ┆ Customer_ID │\n",
       "│ ---      ┆ ---      ┆ ---         ┆ ---     ┆   ┆ ---      ┆ ---      ┆ ---     ┆ ---         │\n",
       "│ f64      ┆ f64      ┆ f64         ┆ f64     ┆   ┆ f64      ┆ f64      ┆ f64     ┆ f64         │\n",
       "╞══════════╪══════════╪═════════════╪═════════╪═══╪══════════╪══════════╪═════════╪═════════════╡\n",
       "│ 0.357    ┆ 0.357    ┆ 0.357       ┆ 0.357   ┆ … ┆ 1.732    ┆ 1.732    ┆ 0.001   ┆ 0.0         │\n",
       "└──────────┴──────────┴─────────────┴─────────┴───┴──────────┴──────────┴─────────┴─────────────┘"
      ]
     },
     "execution_count": 9,
     "metadata": {},
     "output_type": "execute_result"
    }
   ],
   "source": [
    "missings = data.null_count()\n",
    "missings\n",
    "missings_pct = (missings/len(data)) * 100\n",
    "missings_pct"
   ]
  },
  {
   "cell_type": "code",
   "execution_count": null,
   "metadata": {},
   "outputs": [],
   "source": []
  }
 ],
 "metadata": {
  "kernelspec": {
   "display_name": "Python 3",
   "language": "python",
   "name": "python3"
  },
  "language_info": {
   "codemirror_mode": {
    "name": "ipython",
    "version": 3
   },
   "file_extension": ".py",
   "mimetype": "text/x-python",
   "name": "python",
   "nbconvert_exporter": "python",
   "pygments_lexer": "ipython3",
   "version": "3.12.4"
  }
 },
 "nbformat": 4,
 "nbformat_minor": 2
}
